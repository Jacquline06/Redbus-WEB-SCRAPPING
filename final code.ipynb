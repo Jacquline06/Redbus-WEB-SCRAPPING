{
 "cells": [
  {
   "cell_type": "code",
   "execution_count": 1,
   "metadata": {},
   "outputs": [
    {
     "name": "stdout",
     "output_type": "stream",
     "text": [
      "Requirement already satisfied: selenium in e:\\project\\.venv\\lib\\site-packages (4.23.1)\n",
      "Requirement already satisfied: urllib3<3,>=1.26 in e:\\project\\.venv\\lib\\site-packages (from urllib3[socks]<3,>=1.26->selenium) (2.2.2)\n",
      "Requirement already satisfied: trio~=0.17 in e:\\project\\.venv\\lib\\site-packages (from selenium) (0.26.1)\n",
      "Requirement already satisfied: trio-websocket~=0.9 in e:\\project\\.venv\\lib\\site-packages (from selenium) (0.11.1)\n",
      "Requirement already satisfied: certifi>=2021.10.8 in e:\\project\\.venv\\lib\\site-packages (from selenium) (2024.7.4)\n",
      "Requirement already satisfied: typing_extensions~=4.9 in e:\\project\\.venv\\lib\\site-packages (from selenium) (4.12.2)\n",
      "Requirement already satisfied: websocket-client~=1.8 in e:\\project\\.venv\\lib\\site-packages (from selenium) (1.8.0)\n",
      "Requirement already satisfied: attrs>=23.2.0 in e:\\project\\.venv\\lib\\site-packages (from trio~=0.17->selenium) (24.2.0)\n",
      "Requirement already satisfied: sortedcontainers in e:\\project\\.venv\\lib\\site-packages (from trio~=0.17->selenium) (2.4.0)\n",
      "Requirement already satisfied: idna in e:\\project\\.venv\\lib\\site-packages (from trio~=0.17->selenium) (3.7)\n",
      "Requirement already satisfied: outcome in e:\\project\\.venv\\lib\\site-packages (from trio~=0.17->selenium) (1.3.0.post0)\n",
      "Requirement already satisfied: sniffio>=1.3.0 in e:\\project\\.venv\\lib\\site-packages (from trio~=0.17->selenium) (1.3.1)\n",
      "Requirement already satisfied: cffi>=1.14 in e:\\project\\.venv\\lib\\site-packages (from trio~=0.17->selenium) (1.17.0)\n",
      "Requirement already satisfied: wsproto>=0.14 in e:\\project\\.venv\\lib\\site-packages (from trio-websocket~=0.9->selenium) (1.2.0)\n",
      "Requirement already satisfied: pysocks!=1.5.7,<2.0,>=1.5.6 in e:\\project\\.venv\\lib\\site-packages (from urllib3[socks]<3,>=1.26->selenium) (1.7.1)\n",
      "Requirement already satisfied: pycparser in e:\\project\\.venv\\lib\\site-packages (from cffi>=1.14->trio~=0.17->selenium) (2.22)\n",
      "Requirement already satisfied: h11<1,>=0.9.0 in e:\\project\\.venv\\lib\\site-packages (from wsproto>=0.14->trio-websocket~=0.9->selenium) (0.14.0)\n",
      "Note: you may need to restart the kernel to use updated packages.\n"
     ]
    }
   ],
   "source": [
    "pip install selenium"
   ]
  },
  {
   "cell_type": "code",
   "execution_count": 2,
   "metadata": {},
   "outputs": [
    {
     "name": "stdout",
     "output_type": "stream",
     "text": [
      "Requirement already satisfied: pandas in e:\\project\\.venv\\lib\\site-packages (2.2.2)\n",
      "Requirement already satisfied: numpy>=1.26.0 in e:\\project\\.venv\\lib\\site-packages (from pandas) (2.0.1)\n",
      "Requirement already satisfied: python-dateutil>=2.8.2 in e:\\project\\.venv\\lib\\site-packages (from pandas) (2.9.0.post0)\n",
      "Requirement already satisfied: pytz>=2020.1 in e:\\project\\.venv\\lib\\site-packages (from pandas) (2024.1)\n",
      "Requirement already satisfied: tzdata>=2022.7 in e:\\project\\.venv\\lib\\site-packages (from pandas) (2024.1)\n",
      "Requirement already satisfied: six>=1.5 in e:\\project\\.venv\\lib\\site-packages (from python-dateutil>=2.8.2->pandas) (1.16.0)\n",
      "Note: you may need to restart the kernel to use updated packages.\n"
     ]
    }
   ],
   "source": [
    "pip install pandas"
   ]
  },
  {
   "cell_type": "code",
   "execution_count": 3,
   "metadata": {},
   "outputs": [],
   "source": [
    "from selenium import webdriver\n",
    "from selenium.webdriver import ActionChains\n",
    "from selenium.webdriver.common.by import By\n",
    "from selenium.webdriver.common.keys import Keys\n",
    "from selenium.common.exceptions import TimeoutException, NoSuchElementException\n",
    "import time\n",
    "from selenium.webdriver.support.ui import WebDriverWait\n",
    "from selenium.webdriver.support import expected_conditions as EC\n",
    "import pandas as pd"
   ]
  },
  {
   "cell_type": "code",
   "execution_count": 4,
   "metadata": {},
   "outputs": [],
   "source": [
    "driver = webdriver.Chrome()\n",
    "\n",
    "def scroll_and_load(driver, scroll_pause_time=2):\n",
    "    last_height = driver.execute_script(\"return document.body.scrollHeight\")\n",
    "    while True:\n",
    "        driver.execute_script(\"window.scrollTo(0, document.body.scrollHeight);\")\n",
    "        time.sleep(scroll_pause_time)\n",
    "        new_height = driver.execute_script(\"return document.body.scrollHeight\")\n",
    "        if new_height == last_height:\n",
    "            break\n",
    "        last_height = new_height"
   ]
  },
  {
   "cell_type": "code",
   "execution_count": 71,
   "metadata": {},
   "outputs": [],
   "source": [
    "state_links = [\n",
    "             \"https://www.redbus.in/online-booking/apsrtc/?utm_source=rtchometile\",\n",
    "             \"https://www.redbus.in/online-booking/ksrtc-kerala/?utm_source=rtchometile\",\n",
    "             \"https://www.redbus.in/online-booking/tsrtc/?utm_source=rtchometile\",\n",
    "             \"https://www.redbus.in/online-booking/bihar-state-road-transport-corporation-bsrtc/?utm_source=rtchometile\",\n",
    "             \"https://www.redbus.in/online-booking/rsrtc/?utm_source=rtchometile\",\n",
    "             \"https://www.redbus.in/online-booking/south-bengal-state-transport-corporation-sbstc/?utm_source=rtchometile\",\n",
    "             \"https://www.redbus.in/online-booking/hrtc/?utm_source=rtchometile\",\n",
    "             \"https://www.redbus.in/online-booking/astc/?utm_source=rtchometile\",\n",
    "             \"https://www.redbus.in/online-booking/uttar-pradesh-state-road-transport-corporation-upsrtc/?utm_source=rtchometile\",\n",
    "             \"https://www.redbus.in/online-booking/wbtc-ctc/?utm_source=rtchometile\",\n",
    "             \n",
    "]"
   ]
  },
  {
   "cell_type": "code",
   "execution_count": 49,
   "metadata": {},
   "outputs": [],
   "source": [
    "statename = []\n",
    "statelinks = []\n",
    "\n",
    "for link in state_links:\n",
    "    # Extract the state name from the URL\n",
    "    state_name = link.split('/online-booking/')[1].split('/')[0]\n",
    "    \n",
    "    # Clean up state name if necessary\n",
    "    state_name = state_name.replace('-', ' ').title()  # Replacing dashes with spaces and capitalizing\n",
    "    \n",
    "    # Append state name and link to their respective lists\n",
    "    statename.append(state_name)\n",
    "    statelinks.append(link)"
   ]
  },
  {
   "cell_type": "code",
   "execution_count": 50,
   "metadata": {},
   "outputs": [
    {
     "data": {
      "text/plain": [
       "['Apsrtc',\n",
       " 'Ksrtc Kerala',\n",
       " 'Tsrtc',\n",
       " 'Bihar State Road Transport Corporation Bsrtc',\n",
       " 'Rsrtc',\n",
       " 'South Bengal State Transport Corporation Sbstc',\n",
       " 'Hrtc',\n",
       " 'Astc',\n",
       " 'Uttar Pradesh State Road Transport Corporation Upsrtc',\n",
       " 'Wbtc Ctc']"
      ]
     },
     "execution_count": 50,
     "metadata": {},
     "output_type": "execute_result"
    }
   ],
   "source": [
    "statename"
   ]
  },
  {
   "cell_type": "code",
   "execution_count": 51,
   "metadata": {},
   "outputs": [
    {
     "data": {
      "text/plain": [
       "['https://www.redbus.in/online-booking/apsrtc/?utm_source=rtchometile',\n",
       " 'https://www.redbus.in/online-booking/ksrtc-kerala/?utm_source=rtchometile',\n",
       " 'https://www.redbus.in/online-booking/tsrtc/?utm_source=rtchometile',\n",
       " 'https://www.redbus.in/online-booking/bihar-state-road-transport-corporation-bsrtc/?utm_source=rtchometile',\n",
       " 'https://www.redbus.in/online-booking/rsrtc/?utm_source=rtchometile',\n",
       " 'https://www.redbus.in/online-booking/south-bengal-state-transport-corporation-sbstc/?utm_source=rtchometile',\n",
       " 'https://www.redbus.in/online-booking/hrtc/?utm_source=rtchometile',\n",
       " 'https://www.redbus.in/online-booking/astc/?utm_source=rtchometile',\n",
       " 'https://www.redbus.in/online-booking/uttar-pradesh-state-road-transport-corporation-upsrtc/?utm_source=rtchometile',\n",
       " 'https://www.redbus.in/online-booking/wbtc-ctc/?utm_source=rtchometile']"
      ]
     },
     "execution_count": 51,
     "metadata": {},
     "output_type": "execute_result"
    }
   ],
   "source": [
    "statelinks"
   ]
  },
  {
   "cell_type": "code",
   "execution_count": 52,
   "metadata": {},
   "outputs": [],
   "source": [
    "df=pd.DataFrame({\"statename\":statename,\"statelink\":statelinks})"
   ]
  },
  {
   "cell_type": "code",
   "execution_count": 26,
   "metadata": {},
   "outputs": [
    {
     "data": {
      "text/html": [
       "<div>\n",
       "<style scoped>\n",
       "    .dataframe tbody tr th:only-of-type {\n",
       "        vertical-align: middle;\n",
       "    }\n",
       "\n",
       "    .dataframe tbody tr th {\n",
       "        vertical-align: top;\n",
       "    }\n",
       "\n",
       "    .dataframe thead th {\n",
       "        text-align: right;\n",
       "    }\n",
       "</style>\n",
       "<table border=\"1\" class=\"dataframe\">\n",
       "  <thead>\n",
       "    <tr style=\"text-align: right;\">\n",
       "      <th></th>\n",
       "      <th>statename</th>\n",
       "      <th>statelink</th>\n",
       "    </tr>\n",
       "  </thead>\n",
       "  <tbody>\n",
       "    <tr>\n",
       "      <th>0</th>\n",
       "      <td>Apsrtc</td>\n",
       "      <td>https://www.redbus.in/online-booking/apsrtc/?u...</td>\n",
       "    </tr>\n",
       "    <tr>\n",
       "      <th>1</th>\n",
       "      <td>Ksrtc Kerala</td>\n",
       "      <td>https://www.redbus.in/online-booking/ksrtc-ker...</td>\n",
       "    </tr>\n",
       "    <tr>\n",
       "      <th>2</th>\n",
       "      <td>Tsrtc</td>\n",
       "      <td>https://www.redbus.in/online-booking/tsrtc/?ut...</td>\n",
       "    </tr>\n",
       "    <tr>\n",
       "      <th>3</th>\n",
       "      <td>Bihar State Road Transport Corporation Bsrtc</td>\n",
       "      <td>https://www.redbus.in/online-booking/bihar-sta...</td>\n",
       "    </tr>\n",
       "    <tr>\n",
       "      <th>4</th>\n",
       "      <td>Rsrtc</td>\n",
       "      <td>https://www.redbus.in/online-booking/rsrtc/?ut...</td>\n",
       "    </tr>\n",
       "    <tr>\n",
       "      <th>5</th>\n",
       "      <td>South Bengal State Transport Corporation Sbstc</td>\n",
       "      <td>https://www.redbus.in/online-booking/south-ben...</td>\n",
       "    </tr>\n",
       "    <tr>\n",
       "      <th>6</th>\n",
       "      <td>Hrtc</td>\n",
       "      <td>https://www.redbus.in/online-booking/hrtc/?utm...</td>\n",
       "    </tr>\n",
       "    <tr>\n",
       "      <th>7</th>\n",
       "      <td>Astc</td>\n",
       "      <td>https://www.redbus.in/online-booking/astc/?utm...</td>\n",
       "    </tr>\n",
       "    <tr>\n",
       "      <th>8</th>\n",
       "      <td>Uttar Pradesh State Road Transport Corporation...</td>\n",
       "      <td>https://www.redbus.in/online-booking/uttar-pra...</td>\n",
       "    </tr>\n",
       "    <tr>\n",
       "      <th>9</th>\n",
       "      <td>Wbtc Ctc</td>\n",
       "      <td>https://www.redbus.in/online-booking/wbtc-ctc/...</td>\n",
       "    </tr>\n",
       "  </tbody>\n",
       "</table>\n",
       "</div>"
      ],
      "text/plain": [
       "                                           statename  \\\n",
       "0                                             Apsrtc   \n",
       "1                                       Ksrtc Kerala   \n",
       "2                                              Tsrtc   \n",
       "3       Bihar State Road Transport Corporation Bsrtc   \n",
       "4                                              Rsrtc   \n",
       "5     South Bengal State Transport Corporation Sbstc   \n",
       "6                                               Hrtc   \n",
       "7                                               Astc   \n",
       "8  Uttar Pradesh State Road Transport Corporation...   \n",
       "9                                           Wbtc Ctc   \n",
       "\n",
       "                                           statelink  \n",
       "0  https://www.redbus.in/online-booking/apsrtc/?u...  \n",
       "1  https://www.redbus.in/online-booking/ksrtc-ker...  \n",
       "2  https://www.redbus.in/online-booking/tsrtc/?ut...  \n",
       "3  https://www.redbus.in/online-booking/bihar-sta...  \n",
       "4  https://www.redbus.in/online-booking/rsrtc/?ut...  \n",
       "5  https://www.redbus.in/online-booking/south-ben...  \n",
       "6  https://www.redbus.in/online-booking/hrtc/?utm...  \n",
       "7  https://www.redbus.in/online-booking/astc/?utm...  \n",
       "8  https://www.redbus.in/online-booking/uttar-pra...  \n",
       "9  https://www.redbus.in/online-booking/wbtc-ctc/...  "
      ]
     },
     "execution_count": 26,
     "metadata": {},
     "output_type": "execute_result"
    }
   ],
   "source": [
    "df"
   ]
  },
  {
   "cell_type": "code",
   "execution_count": 28,
   "metadata": {},
   "outputs": [],
   "source": [
    "df.to_csv(\"statebus.csv\",index=False)"
   ]
  },
  {
   "cell_type": "markdown",
   "metadata": {},
   "source": [
    "APSRTC"
   ]
  },
  {
   "cell_type": "code",
   "execution_count": 9,
   "metadata": {},
   "outputs": [],
   "source": [
    "#importing libraries\n",
    "from selenium import webdriver\n",
    "from selenium.webdriver import ActionChains\n",
    "from selenium.webdriver.common.by import By\n",
    "from selenium.webdriver.common.keys import Keys\n",
    "from selenium.common.exceptions import TimeoutException, NoSuchElementException\n",
    "import time\n",
    "from selenium.webdriver.support.ui import WebDriverWait\n",
    "from selenium.webdriver.support import expected_conditions as EC\n",
    "import pandas as pd"
   ]
  },
  {
   "cell_type": "code",
   "execution_count": 83,
   "metadata": {},
   "outputs": [],
   "source": [
    "def scroll_and_load(driver, scroll_pause_time=2):\n",
    "    last_height = driver.execute_script(\"return document.body.scrollHeight\")\n",
    "    while True:\n",
    "        driver.execute_script(\"window.scrollTo(0, document.body.scrollHeight);\")\n",
    "        WebDriverWait(driver, scroll_pause_time).until(\n",
    "            EC.presence_of_element_located((By.XPATH, \"//div[@class='route_link']\"))  # Adjust as necessary\n",
    "        )\n",
    "        new_height = driver.execute_script(\"return document.body.scrollHeight\")\n",
    "        if new_height == last_height:\n",
    "            break\n",
    "        last_height = new_height"
   ]
  },
  {
   "cell_type": "code",
   "execution_count": 10,
   "metadata": {},
   "outputs": [],
   "source": [
    "driver = webdriver.Chrome()\n"
   ]
  },
  {
   "cell_type": "code",
   "execution_count": 13,
   "metadata": {},
   "outputs": [],
   "source": [
    "def pagination_scroll(j):\n",
    "    try:\n",
    "        # Wait for the pagination element to be present\n",
    "        pagination = driver.find_element(By.XPATH, '//*[@class=\"DC_117_paginationTable\"]')\n",
    "        next_button = pagination.find_element(By.XPATH, f'//div[@class=\"DC_117_pageTabs \" and text()={j+1}]')\n",
    "        driver.execute_script(\"arguments[0].scrollIntoView();\", next_button)\n",
    "        time.sleep(3)\n",
    "        next_button.click()\n",
    "    except NoSuchElementException:\n",
    "        return None"
   ]
  },
  {
   "cell_type": "code",
   "execution_count": 195,
   "metadata": {},
   "outputs": [],
   "source": [
    "driver = webdriver.Chrome()"
   ]
  },
  {
   "cell_type": "code",
   "execution_count": 11,
   "metadata": {},
   "outputs": [],
   "source": [
    "def extract_and_click_routes():\n",
    "    # Navigate to the state URL\n",
    "    links=[]\n",
    "    routes=[]\n",
    "    statelinks = [\n",
    "        'https://www.redbus.in/online-booking/apsrtc/?utm_source=rtchometile'\n",
    "    ]\n",
    "    for linkss in statelinks:\n",
    "        driver.get(linkss)\n",
    "        for j in range(5):\n",
    "            try:    \n",
    "                    # Click the first route link\n",
    "                #first_route = statelinks[0] \n",
    "                # first_route_link = driver.find_element(By.XPATH, \".//a[@class='route']\").get_attribute('href')\n",
    "                # first_route_name = driver.find_element(By.XPATH, \".//a[@class='route']\").text\n",
    "\n",
    "                time.sleep(2)\n",
    "                # first_route = statelinks[0]\n",
    "                first_routes = driver.find_elements(By.XPATH, \"//a[@class='route']\")\n",
    "\n",
    "                for href in first_routes:\n",
    "                    d = href.get_attribute(\"href\")\n",
    "                    links.append(d)\n",
    "\n",
    "                for route in first_routes:\n",
    "                    routes.append(route.text)\n",
    "                \n",
    "            except NoSuchElementException:\n",
    "                print(f\"stopped\")\n",
    "            pagination_scroll(j)\n",
    "\n",
    "    return links,routes"
   ]
  },
  {
   "cell_type": "code",
   "execution_count": 36,
   "metadata": {},
   "outputs": [],
   "source": [
    "driver.quit()"
   ]
  },
  {
   "cell_type": "code",
   "execution_count": 14,
   "metadata": {},
   "outputs": [],
   "source": [
    "buslink,busname=extract_and_click_routes()"
   ]
  },
  {
   "cell_type": "code",
   "execution_count": 15,
   "metadata": {},
   "outputs": [],
   "source": [
    "df1=pd.DataFrame({\"routename\":busname,\"routelink\":buslink})"
   ]
  },
  {
   "cell_type": "code",
   "execution_count": 16,
   "metadata": {},
   "outputs": [],
   "source": [
    "df1.to_csv(\"andhra.csv\",index=False) "
   ]
  },
  {
   "cell_type": "markdown",
   "metadata": {},
   "source": [
    "                                                Kerala Route"
   ]
  },
  {
   "cell_type": "code",
   "execution_count": 188,
   "metadata": {},
   "outputs": [],
   "source": [
    "def extract_and_click_routes():\n",
    "    # Navigate to the state URL\n",
    "    links=[]\n",
    "    routes=[]\n",
    "    statelinks = [\n",
    "       'https://www.redbus.in/online-booking/ksrtc-kerala/?utm_source=rtchometile'\n",
    "    ]\n",
    "    for linkss in statelinks:\n",
    "        driver.get(linkss)\n",
    "        for j in range(5):\n",
    "            try:    \n",
    "                    # Click the first route link\n",
    "                #first_route = statelinks[0] \n",
    "                # first_route_link = driver.find_element(By.XPATH, \".//a[@class='route']\").get_attribute('href')\n",
    "                # first_route_name = driver.find_element(By.XPATH, \".//a[@class='route']\").text\n",
    "\n",
    "                time.sleep(2)\n",
    "                # first_route = statelinks[0]\n",
    "                first_routes = driver.find_elements(By.XPATH, \"//a[@class='route']\")\n",
    "\n",
    "                for href in first_routes:\n",
    "                    d = href.get_attribute(\"href\")\n",
    "                    links.append(d)\n",
    "\n",
    "                for route in first_routes:\n",
    "                    routes.append(route.text)\n",
    "                \n",
    "            except NoSuchElementException:\n",
    "                print(f\"stopped\")\n",
    "            pagination_scroll(j)\n",
    "\n",
    "    return links,routes"
   ]
  },
  {
   "cell_type": "code",
   "execution_count": 189,
   "metadata": {},
   "outputs": [],
   "source": [
    "buslink,busname=extract_and_click_routes()"
   ]
  },
  {
   "cell_type": "code",
   "execution_count": 17,
   "metadata": {},
   "outputs": [],
   "source": [
    "df2=pd.DataFrame({\"routename\":busname,\"routelink\":buslink})\n"
   ]
  },
  {
   "cell_type": "code",
   "execution_count": 18,
   "metadata": {},
   "outputs": [],
   "source": [
    "df2.to_csv(\"kerala.csv\",index=False)"
   ]
  },
  {
   "cell_type": "markdown",
   "metadata": {},
   "source": [
    "TSRTC\n"
   ]
  },
  {
   "cell_type": "code",
   "execution_count": 196,
   "metadata": {},
   "outputs": [],
   "source": [
    "def extract_and_click_routes():\n",
    "    # Navigate to the state URL\n",
    "    links=[]\n",
    "    routes=[]\n",
    "    statelinks = [\n",
    "       'https://www.redbus.in/online-booking/tsrtc/?utm_source=rtchometile'\n",
    "    ]\n",
    "    for linkss in statelinks:\n",
    "        driver.get(linkss)\n",
    "        for j in range(5):\n",
    "            try:    \n",
    "                    # Click the first route link\n",
    "                #first_route = statelinks[0] \n",
    "                # first_route_link = driver.find_element(By.XPATH, \".//a[@class='route']\").get_attribute('href')\n",
    "                # first_route_name = driver.find_element(By.XPATH, \".//a[@class='route']\").text\n",
    "\n",
    "                time.sleep(2)\n",
    "                # first_route = statelinks[0]\n",
    "                first_routes = driver.find_elements(By.XPATH, \"//a[@class='route']\")\n",
    "\n",
    "                for href in first_routes:\n",
    "                    d = href.get_attribute(\"href\")\n",
    "                    links.append(d)\n",
    "\n",
    "                for route in first_routes:\n",
    "                    routes.append(route.text)\n",
    "                \n",
    "            except NoSuchElementException:\n",
    "                print(f\"stopped\")\n",
    "            pagination_scroll(j)\n",
    "\n",
    "    return links,routes"
   ]
  },
  {
   "cell_type": "code",
   "execution_count": 197,
   "metadata": {},
   "outputs": [],
   "source": [
    "buslink,busname=extract_and_click_routes()"
   ]
  },
  {
   "cell_type": "code",
   "execution_count": 19,
   "metadata": {},
   "outputs": [],
   "source": [
    "df3=pd.DataFrame({\"routename\":busname,\"routelink\":buslink})\n"
   ]
  },
  {
   "cell_type": "code",
   "execution_count": 20,
   "metadata": {},
   "outputs": [],
   "source": [
    "df3.to_csv(\"tsrtc.csv\",index=False)"
   ]
  },
  {
   "cell_type": "markdown",
   "metadata": {},
   "source": [
    "Kadamba Transport Corporation Limited (KTCL)"
   ]
  },
  {
   "cell_type": "code",
   "execution_count": 201,
   "metadata": {},
   "outputs": [],
   "source": [
    "driver = webdriver.Chrome()\n",
    "def extract_and_click_routes():\n",
    "    # Navigate to the state URL\n",
    "    links=[]\n",
    "    routes=[]\n",
    "    statelinks = [\n",
    "       'https://www.redbus.in/online-booking/ktcl/?utm_source=rtchometile'\n",
    "    ]\n",
    "    for linkss in statelinks:\n",
    "        driver.get(linkss)\n",
    "        for j in range(5):\n",
    "            try:    \n",
    "                    # Click the first route link\n",
    "                #first_route = statelinks[0] \n",
    "                # first_route_link = driver.find_element(By.XPATH, \".//a[@class='route']\").get_attribute('href')\n",
    "                # first_route_name = driver.find_element(By.XPATH, \".//a[@class='route']\").text\n",
    "\n",
    "                time.sleep(2)\n",
    "                # first_route = statelinks[0]\n",
    "                first_routes = driver.find_elements(By.XPATH, \"//a[@class='route']\")\n",
    "\n",
    "                for href in first_routes:\n",
    "                    d = href.get_attribute(\"href\")\n",
    "                    links.append(d)\n",
    "\n",
    "                for route in first_routes:\n",
    "                    routes.append(route.text)\n",
    "                \n",
    "            except NoSuchElementException:\n",
    "                print(f\"stopped\")\n",
    "            pagination_scroll(j)\n",
    "\n",
    "    return links,routes\n",
    "\n",
    "buslink,busname=extract_and_click_routes()\n",
    "\n",
    "driver.quit()"
   ]
  },
  {
   "cell_type": "code",
   "execution_count": 22,
   "metadata": {},
   "outputs": [],
   "source": [
    "df4=pd.DataFrame({\"routename\":busname,\"routelink\":buslink})\n",
    "df4\n",
    "\n",
    "df4.to_csv(\"KTCL.csv\",index=False)"
   ]
  },
  {
   "cell_type": "markdown",
   "metadata": {},
   "source": [
    "RSRTC"
   ]
  },
  {
   "cell_type": "code",
   "execution_count": 203,
   "metadata": {},
   "outputs": [],
   "source": [
    "driver = webdriver.Chrome()\n",
    "def extract_and_click_routes():\n",
    "    # Navigate to the state URL\n",
    "    links=[]\n",
    "    routes=[]\n",
    "    statelinks = [\n",
    "       'https://www.redbus.in/online-booking/rsrtc/?utm_source=rtchometile'\n",
    "    ]\n",
    "    for linkss in statelinks:\n",
    "        driver.get(linkss)\n",
    "        for j in range(5):\n",
    "            try:    \n",
    "                    # Click the first route link\n",
    "                #first_route = statelinks[0] \n",
    "                # first_route_link = driver.find_element(By.XPATH, \".//a[@class='route']\").get_attribute('href')\n",
    "                # first_route_name = driver.find_element(By.XPATH, \".//a[@class='route']\").text\n",
    "\n",
    "                time.sleep(2)\n",
    "                # first_route = statelinks[0]\n",
    "                first_routes = driver.find_elements(By.XPATH, \"//a[@class='route']\")\n",
    "\n",
    "                for href in first_routes:\n",
    "                    d = href.get_attribute(\"href\")\n",
    "                    links.append(d)\n",
    "\n",
    "                for route in first_routes:\n",
    "                    routes.append(route.text)\n",
    "                \n",
    "            except NoSuchElementException:\n",
    "                print(f\"stopped\")\n",
    "            pagination_scroll(j)\n",
    "\n",
    "    return links,routes\n",
    "\n",
    "buslink,busname=extract_and_click_routes()\n",
    "\n",
    "driver.quit()\n"
   ]
  },
  {
   "cell_type": "code",
   "execution_count": 23,
   "metadata": {},
   "outputs": [],
   "source": [
    "df5=pd.DataFrame({\"routename\":busname,\"routelink\":buslink})\n",
    "df5\n",
    "\n",
    "df5.to_csv(\"RSRTC.csv\",index=False)"
   ]
  },
  {
   "cell_type": "markdown",
   "metadata": {},
   "source": [
    "SOUTH BENGAL"
   ]
  },
  {
   "cell_type": "code",
   "execution_count": 205,
   "metadata": {},
   "outputs": [],
   "source": [
    "driver = webdriver.Chrome()\n",
    "def extract_and_click_routes():\n",
    "    # Navigate to the state URL\n",
    "    links=[]\n",
    "    routes=[]\n",
    "    statelinks = [\n",
    "       'https://www.redbus.in/online-booking/south-bengal-state-transport-corporation-sbstc/?utm_source=rtchometile'\n",
    "    ]\n",
    "    for linkss in statelinks:\n",
    "        driver.get(linkss)\n",
    "        for j in range(5):\n",
    "            try:    \n",
    "                    # Click the first route link\n",
    "                #first_route = statelinks[0] \n",
    "                # first_route_link = driver.find_element(By.XPATH, \".//a[@class='route']\").get_attribute('href')\n",
    "                # first_route_name = driver.find_element(By.XPATH, \".//a[@class='route']\").text\n",
    "\n",
    "                time.sleep(2)\n",
    "                # first_route = statelinks[0]\n",
    "                first_routes = driver.find_elements(By.XPATH, \"//a[@class='route']\")\n",
    "\n",
    "                for href in first_routes:\n",
    "                    d = href.get_attribute(\"href\")\n",
    "                    links.append(d)\n",
    "\n",
    "                for route in first_routes:\n",
    "                    routes.append(route.text)\n",
    "                \n",
    "            except NoSuchElementException:\n",
    "                print(f\"stopped\")\n",
    "            pagination_scroll(j)\n",
    "\n",
    "    return links,routes\n",
    "\n",
    "buslink,busname=extract_and_click_routes()\n",
    "\n",
    "driver.quit()\n"
   ]
  },
  {
   "cell_type": "code",
   "execution_count": 24,
   "metadata": {},
   "outputs": [],
   "source": [
    "df6=pd.DataFrame({\"routename\":busname,\"routelink\":buslink})\n",
    "df6\n",
    "\n",
    "df6.to_csv(\"south-bengal.csv\",index=False)"
   ]
  },
  {
   "cell_type": "markdown",
   "metadata": {},
   "source": [
    "HRTC"
   ]
  },
  {
   "cell_type": "code",
   "execution_count": 207,
   "metadata": {},
   "outputs": [],
   "source": [
    "driver = webdriver.Chrome()\n",
    "def extract_and_click_routes():\n",
    "    # Navigate to the state URL\n",
    "    links=[]\n",
    "    routes=[]\n",
    "    statelinks = [\n",
    "       'https://www.redbus.in/online-booking/hrtc/?utm_source=rtchometile'\n",
    "    ]\n",
    "    for linkss in statelinks:\n",
    "        driver.get(linkss)\n",
    "        for j in range(5):\n",
    "            try:    \n",
    "                    # Click the first route link\n",
    "                #first_route = statelinks[0] \n",
    "                # first_route_link = driver.find_element(By.XPATH, \".//a[@class='route']\").get_attribute('href')\n",
    "                # first_route_name = driver.find_element(By.XPATH, \".//a[@class='route']\").text\n",
    "\n",
    "                time.sleep(2)\n",
    "                # first_route = statelinks[0]\n",
    "                first_routes = driver.find_elements(By.XPATH, \"//a[@class='route']\")\n",
    "\n",
    "                for href in first_routes:\n",
    "                    d = href.get_attribute(\"href\")\n",
    "                    links.append(d)\n",
    "\n",
    "                for route in first_routes:\n",
    "                    routes.append(route.text)\n",
    "                \n",
    "            except NoSuchElementException:\n",
    "                print(f\"stopped\")\n",
    "            pagination_scroll(j)\n",
    "\n",
    "    return links,routes\n",
    "\n",
    "buslink,busname=extract_and_click_routes()\n",
    "\n",
    "driver.quit()"
   ]
  },
  {
   "cell_type": "code",
   "execution_count": 25,
   "metadata": {},
   "outputs": [],
   "source": [
    "\n",
    "df7=pd.DataFrame({\"routename\":busname,\"routelink\":buslink})\n",
    "df7\n",
    "\n",
    "df7.to_csv(\"HRTC.csv\",index=False)"
   ]
  },
  {
   "cell_type": "markdown",
   "metadata": {},
   "source": [
    "ASTC\n"
   ]
  },
  {
   "cell_type": "code",
   "execution_count": 209,
   "metadata": {},
   "outputs": [],
   "source": [
    "driver = webdriver.Chrome()\n",
    "def extract_and_click_routes():\n",
    "    # Navigate to the state URL\n",
    "    links=[]\n",
    "    routes=[]\n",
    "    statelinks = [\n",
    "       'https://www.redbus.in/online-booking/astc/?utm_source=rtchometile'\n",
    "    ]\n",
    "    for linkss in statelinks:\n",
    "        driver.get(linkss)\n",
    "        for j in range(5):\n",
    "            try:    \n",
    "                    # Click the first route link\n",
    "                #first_route = statelinks[0] \n",
    "                # first_route_link = driver.find_element(By.XPATH, \".//a[@class='route']\").get_attribute('href')\n",
    "                # first_route_name = driver.find_element(By.XPATH, \".//a[@class='route']\").text\n",
    "\n",
    "                time.sleep(2)\n",
    "                # first_route = statelinks[0]\n",
    "                first_routes = driver.find_elements(By.XPATH, \"//a[@class='route']\")\n",
    "\n",
    "                for href in first_routes:\n",
    "                    d = href.get_attribute(\"href\")\n",
    "                    links.append(d)\n",
    "\n",
    "                for route in first_routes:\n",
    "                    routes.append(route.text)\n",
    "                \n",
    "            except NoSuchElementException:\n",
    "                print(f\"stopped\")\n",
    "            pagination_scroll(j)\n",
    "\n",
    "    return links,routes\n",
    "\n",
    "buslink,busname=extract_and_click_routes()\n",
    "\n",
    "driver.quit()"
   ]
  },
  {
   "cell_type": "code",
   "execution_count": 26,
   "metadata": {},
   "outputs": [],
   "source": [
    "df8=pd.DataFrame({\"routename\":busname,\"routelink\":buslink})\n",
    "df8\n",
    "\n",
    "df8.to_csv(\"ASTC.csv\",index=False)"
   ]
  },
  {
   "cell_type": "code",
   "execution_count": null,
   "metadata": {},
   "outputs": [],
   "source": [
    "UPSRTC"
   ]
  },
  {
   "cell_type": "code",
   "execution_count": 211,
   "metadata": {},
   "outputs": [],
   "source": [
    "driver = webdriver.Chrome()\n",
    "def extract_and_click_routes():\n",
    "    # Navigate to the state URL\n",
    "    links=[]\n",
    "    routes=[]\n",
    "    statelinks = [\n",
    "       'https://www.redbus.in/online-booking/uttar-pradesh-state-road-transport-corporation-upsrtc/?utm_source=rtchometile'\n",
    "    ]\n",
    "    for linkss in statelinks:\n",
    "        driver.get(linkss)\n",
    "        for j in range(5):\n",
    "            try:    \n",
    "                    # Click the first route link\n",
    "                #first_route = statelinks[0] \n",
    "                # first_route_link = driver.find_element(By.XPATH, \".//a[@class='route']\").get_attribute('href')\n",
    "                # first_route_name = driver.find_element(By.XPATH, \".//a[@class='route']\").text\n",
    "\n",
    "                time.sleep(2)\n",
    "                # first_route = statelinks[0]\n",
    "                first_routes = driver.find_elements(By.XPATH, \"//a[@class='route']\")\n",
    "\n",
    "                for href in first_routes:\n",
    "                    d = href.get_attribute(\"href\")\n",
    "                    links.append(d)\n",
    "\n",
    "                for route in first_routes:\n",
    "                    routes.append(route.text)\n",
    "                \n",
    "            except NoSuchElementException:\n",
    "                print(f\"stopped\")\n",
    "            pagination_scroll(j)\n",
    "\n",
    "    return links,routes\n",
    "\n",
    "buslink,busname=extract_and_click_routes()\n",
    "\n",
    "driver.quit()"
   ]
  },
  {
   "cell_type": "code",
   "execution_count": 27,
   "metadata": {},
   "outputs": [],
   "source": [
    "df9=pd.DataFrame({\"routename\":busname,\"routelink\":buslink})\n",
    "df9\n",
    "\n",
    "df9.to_csv(\"upsrtc.csv\",index=False)"
   ]
  },
  {
   "cell_type": "markdown",
   "metadata": {},
   "source": [
    "WBTC"
   ]
  },
  {
   "cell_type": "code",
   "execution_count": 214,
   "metadata": {},
   "outputs": [],
   "source": [
    "driver = webdriver.Chrome()\n",
    "def extract_and_click_routes():\n",
    "    # Navigate to the state URL\n",
    "    links=[]\n",
    "    routes=[]\n",
    "    statelinks = [\n",
    "       'https://www.redbus.in/online-booking/wbtc-ctc/?utm_source=rtchometile'\n",
    "    ]\n",
    "    for linkss in statelinks:\n",
    "        driver.get(linkss)\n",
    "        for j in range(5):\n",
    "            try:    \n",
    "                    # Click the first route link\n",
    "                #first_route = statelinks[0] \n",
    "                # first_route_link = driver.find_element(By.XPATH, \".//a[@class='route']\").get_attribute('href')\n",
    "                # first_route_name = driver.find_element(By.XPATH, \".//a[@class='route']\").text\n",
    "\n",
    "                time.sleep(2)\n",
    "                # first_route = statelinks[0]\n",
    "                first_routes = driver.find_elements(By.XPATH, \"//a[@class='route']\")\n",
    "\n",
    "                for href in first_routes:\n",
    "                    d = href.get_attribute(\"href\")\n",
    "                    links.append(d)\n",
    "\n",
    "                for route in first_routes:\n",
    "                    routes.append(route.text)\n",
    "                \n",
    "            except NoSuchElementException:\n",
    "                print(f\"stopped\")\n",
    "            pagination_scroll(j)\n",
    "\n",
    "    return links,routes\n",
    "\n",
    "buslink,busname=extract_and_click_routes()\n",
    "\n",
    "driver.quit()"
   ]
  },
  {
   "cell_type": "code",
   "execution_count": 28,
   "metadata": {},
   "outputs": [],
   "source": [
    "df10 =pd.DataFrame({\"routename\":busname,\"routelink\":buslink})\n",
    "df10\n",
    "\n",
    "df10.to_csv(\"wbtc.csv\",index=False)"
   ]
  },
  {
   "cell_type": "code",
   "execution_count": 37,
   "metadata": {},
   "outputs": [
    {
     "data": {
      "text/html": [
       "<div>\n",
       "<style scoped>\n",
       "    .dataframe tbody tr th:only-of-type {\n",
       "        vertical-align: middle;\n",
       "    }\n",
       "\n",
       "    .dataframe tbody tr th {\n",
       "        vertical-align: top;\n",
       "    }\n",
       "\n",
       "    .dataframe thead th {\n",
       "        text-align: right;\n",
       "    }\n",
       "</style>\n",
       "<table border=\"1\" class=\"dataframe\">\n",
       "  <thead>\n",
       "    <tr style=\"text-align: right;\">\n",
       "      <th></th>\n",
       "      <th>routename</th>\n",
       "      <th>routelink</th>\n",
       "    </tr>\n",
       "  </thead>\n",
       "  <tbody>\n",
       "    <tr>\n",
       "      <th>0</th>\n",
       "      <td>Vijayawada to Hyderabad</td>\n",
       "      <td>https://www.redbus.in/bus-tickets/vijayawada-t...</td>\n",
       "    </tr>\n",
       "    <tr>\n",
       "      <th>1</th>\n",
       "      <td>Hyderabad to Vijayawada</td>\n",
       "      <td>https://www.redbus.in/bus-tickets/hyderabad-to...</td>\n",
       "    </tr>\n",
       "    <tr>\n",
       "      <th>2</th>\n",
       "      <td>Kakinada to Visakhapatnam</td>\n",
       "      <td>https://www.redbus.in/bus-tickets/kakinada-to-...</td>\n",
       "    </tr>\n",
       "    <tr>\n",
       "      <th>3</th>\n",
       "      <td>Visakhapatnam to Kakinada</td>\n",
       "      <td>https://www.redbus.in/bus-tickets/visakhapatna...</td>\n",
       "    </tr>\n",
       "    <tr>\n",
       "      <th>4</th>\n",
       "      <td>Chittoor (Andhra Pradesh) to Bangalore</td>\n",
       "      <td>https://www.redbus.in/bus-tickets/chittoor-and...</td>\n",
       "    </tr>\n",
       "    <tr>\n",
       "      <th>...</th>\n",
       "      <td>...</td>\n",
       "      <td>...</td>\n",
       "    </tr>\n",
       "    <tr>\n",
       "      <th>495</th>\n",
       "      <td>Kurnool to Vijayawada</td>\n",
       "      <td>https://www.redbus.in/bus-tickets/kurnool-to-v...</td>\n",
       "    </tr>\n",
       "    <tr>\n",
       "      <th>496</th>\n",
       "      <td>Vijayawada to Kurnool</td>\n",
       "      <td>https://www.redbus.in/bus-tickets/vijayawada-t...</td>\n",
       "    </tr>\n",
       "    <tr>\n",
       "      <th>497</th>\n",
       "      <td>Kakinada to Vijayawada</td>\n",
       "      <td>https://www.redbus.in/bus-tickets/kakinada-to-...</td>\n",
       "    </tr>\n",
       "    <tr>\n",
       "      <th>498</th>\n",
       "      <td>Bangalore to Madanapalli</td>\n",
       "      <td>https://www.redbus.in/bus-tickets/bangalore-to...</td>\n",
       "    </tr>\n",
       "    <tr>\n",
       "      <th>499</th>\n",
       "      <td>Nellore to Bangalore</td>\n",
       "      <td>https://www.redbus.in/bus-tickets/nellore-to-b...</td>\n",
       "    </tr>\n",
       "  </tbody>\n",
       "</table>\n",
       "<p>500 rows × 2 columns</p>\n",
       "</div>"
      ],
      "text/plain": [
       "                                  routename  \\\n",
       "0                   Vijayawada to Hyderabad   \n",
       "1                   Hyderabad to Vijayawada   \n",
       "2                 Kakinada to Visakhapatnam   \n",
       "3                 Visakhapatnam to Kakinada   \n",
       "4    Chittoor (Andhra Pradesh) to Bangalore   \n",
       "..                                      ...   \n",
       "495                   Kurnool to Vijayawada   \n",
       "496                   Vijayawada to Kurnool   \n",
       "497                  Kakinada to Vijayawada   \n",
       "498                Bangalore to Madanapalli   \n",
       "499                    Nellore to Bangalore   \n",
       "\n",
       "                                             routelink  \n",
       "0    https://www.redbus.in/bus-tickets/vijayawada-t...  \n",
       "1    https://www.redbus.in/bus-tickets/hyderabad-to...  \n",
       "2    https://www.redbus.in/bus-tickets/kakinada-to-...  \n",
       "3    https://www.redbus.in/bus-tickets/visakhapatna...  \n",
       "4    https://www.redbus.in/bus-tickets/chittoor-and...  \n",
       "..                                                 ...  \n",
       "495  https://www.redbus.in/bus-tickets/kurnool-to-v...  \n",
       "496  https://www.redbus.in/bus-tickets/vijayawada-t...  \n",
       "497  https://www.redbus.in/bus-tickets/kakinada-to-...  \n",
       "498  https://www.redbus.in/bus-tickets/bangalore-to...  \n",
       "499  https://www.redbus.in/bus-tickets/nellore-to-b...  \n",
       "\n",
       "[500 rows x 2 columns]"
      ]
     },
     "execution_count": 37,
     "metadata": {},
     "output_type": "execute_result"
    }
   ],
   "source": [
    "df = pd.concat([df1,df2,df3,df4,df5,df6,df7,df8,df9,df10],ignore_index=True)\n",
    "df"
   ]
  },
  {
   "cell_type": "code",
   "execution_count": 38,
   "metadata": {},
   "outputs": [],
   "source": [
    "df.to_csv('data.csv',index = False)"
   ]
  }
 ],
 "metadata": {
  "kernelspec": {
   "display_name": ".venv",
   "language": "python",
   "name": "python3"
  },
  "language_info": {
   "codemirror_mode": {
    "name": "ipython",
    "version": 3
   },
   "file_extension": ".py",
   "mimetype": "text/x-python",
   "name": "python",
   "nbconvert_exporter": "python",
   "pygments_lexer": "ipython3",
   "version": "3.12.4"
  }
 },
 "nbformat": 4,
 "nbformat_minor": 2
}
